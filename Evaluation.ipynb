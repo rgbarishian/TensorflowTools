{
 "cells": [
  {
   "cell_type": "markdown",
   "metadata": {},
   "source": [
    "# Evaluating Different Optimizations of Networks\n",
    "\n",
    "This notebook is used to compared different optimizations of networks\n",
    "Load different networks and data and run evaluate function"
   ]
  },
  {
   "cell_type": "code",
   "execution_count": null,
   "metadata": {},
   "outputs": [],
   "source": [
    "import time\n",
    "import numpy as np\n",
    "import tensorflow as tf"
   ]
  },
  {
   "cell_type": "code",
   "execution_count": null,
   "metadata": {},
   "outputs": [],
   "source": [
    "@tf.function\n",
    "def run(data, model):\n",
    "    return model(data)\n",
    "\n",
    "def evaluate(model, type, data):\n",
    "    x_test, y_test = data\n",
    "    prediction_digits = []\n",
    "    if type.lower() == 'tflite':\n",
    "        model.allocate_tensors()\n",
    "        input_index = model.get_input_details()[0][\"index\"]\n",
    "        output_index = model.get_output_details()[0][\"index\"]\n",
    "\n",
    "        t1 = time.time()\n",
    "        for test_image in x_test:\n",
    "            # Pre-processing: add batch dimension and convert to float32 to match with\n",
    "            # the model's input data format.\n",
    "            test_image = np.expand_dims(test_image, axis=0).astype(np.float32)\n",
    "            model.set_tensor(input_index, test_image)\n",
    "\n",
    "            # Run inference.\n",
    "            model.invoke()\n",
    "\n",
    "            # Post-processing: remove batch dimension and find the digit with highest\n",
    "            # probability.\n",
    "            output = model.get_tensor(output_index)\n",
    "            # digit = np.argmax(output()[0])\n",
    "            # prediction_digits.append(digit)\n",
    "        t2 = time.time()-t1\n",
    "    else:\n",
    "        y_test = tf.keras.utils.to_categorical(y_test, 10)\n",
    "        t1 = time.time()\n",
    "        for test_image in x_test:\n",
    "            test_image = np.expand_dims(test_image, axis=0).astype(np.float32)\n",
    "            # output = model(test_image)\n",
    "            run(test_image, model)\n",
    "\n",
    "        t2 = time.time()-t1\n",
    "    \n",
    "    print(f'{type} model time: {t2}')"
   ]
  },
  {
   "cell_type": "code",
   "execution_count": null,
   "metadata": {},
   "outputs": [],
   "source": [
    "mnist = tf.keras.datasets.mnist\n",
    "num_classes = 10\n",
    "input_shape = (28, 28, 1)\n",
    "(x_train, y_train), (x_test, y_test) = mnist.load_data()\n",
    "\n",
    "# Scale images to the [0, 1] range\n",
    "x_train = x_train.astype(\"float32\") / 255\n",
    "x_test = x_test.astype(\"float32\") / 255\n",
    "# Make sure images have shape (28, 28, 1)\n",
    "x_train = np.expand_dims(x_train, -1)\n",
    "x_test = np.expand_dims(x_test, -1)\n",
    "\n",
    "\n",
    "# original = tf.keras.models.load_model('functional_split_net')\n",
    "# evaluate(original, 'normal', (x_test,y_test))\n",
    "# del original\n",
    "\n",
    "folded = tf.keras.models.load_model('Networks/functional_split_folded')\n",
    "evaluate(folded, 'folded', (x_test, y_test))\n",
    "del folded\n",
    "\n",
    "tflite = interpreter = tf.lite.Interpreter(model_path='Networks/functional_base.tflite')\n",
    "evaluate(tflite, 'tflite', (x_test, y_test))"
   ]
  },
  {
   "cell_type": "code",
   "execution_count": null,
   "metadata": {},
   "outputs": [],
   "source": []
  }
 ],
 "metadata": {
  "interpreter": {
   "hash": "918c1cd22d83585c6833aaad8c6f56967a29c60188e43e4a9798e1a86babfe21"
  },
  "kernelspec": {
   "display_name": "Python 3.9.7 ('RyanNet')",
   "language": "python",
   "name": "python3"
  },
  "language_info": {
   "codemirror_mode": {
    "name": "ipython",
    "version": 3
   },
   "file_extension": ".py",
   "mimetype": "text/x-python",
   "name": "python",
   "nbconvert_exporter": "python",
   "pygments_lexer": "ipython3",
   "version": "3.9.7"
  },
  "orig_nbformat": 4
 },
 "nbformat": 4,
 "nbformat_minor": 2
}
